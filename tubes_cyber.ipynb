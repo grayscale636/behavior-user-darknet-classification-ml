{
 "cells": [
  {
   "cell_type": "code",
   "execution_count": 202,
   "id": "d4e4ff69",
   "metadata": {},
   "outputs": [],
   "source": [
    "import pandas as pd"
   ]
  },
  {
   "cell_type": "code",
   "execution_count": 203,
   "id": "9a5e8a5a",
   "metadata": {},
   "outputs": [],
   "source": [
    "df = pd.read_csv('Darknet.csv')"
   ]
  },
  {
   "cell_type": "code",
   "execution_count": 204,
   "id": "957615ad",
   "metadata": {},
   "outputs": [
    {
     "data": {
      "text/html": [
       "<div>\n",
       "<style scoped>\n",
       "    .dataframe tbody tr th:only-of-type {\n",
       "        vertical-align: middle;\n",
       "    }\n",
       "\n",
       "    .dataframe tbody tr th {\n",
       "        vertical-align: top;\n",
       "    }\n",
       "\n",
       "    .dataframe thead th {\n",
       "        text-align: right;\n",
       "    }\n",
       "</style>\n",
       "<table border=\"1\" class=\"dataframe\">\n",
       "  <thead>\n",
       "    <tr style=\"text-align: right;\">\n",
       "      <th></th>\n",
       "      <th>Flow ID</th>\n",
       "      <th>Src IP</th>\n",
       "      <th>Src Port</th>\n",
       "      <th>Dst IP</th>\n",
       "      <th>Dst Port</th>\n",
       "      <th>Protocol</th>\n",
       "      <th>Timestamp</th>\n",
       "      <th>Flow Duration</th>\n",
       "      <th>Total Fwd Packet</th>\n",
       "      <th>Total Bwd packets</th>\n",
       "      <th>...</th>\n",
       "      <th>Active Mean</th>\n",
       "      <th>Active Std</th>\n",
       "      <th>Active Max</th>\n",
       "      <th>Active Min</th>\n",
       "      <th>Idle Mean</th>\n",
       "      <th>Idle Std</th>\n",
       "      <th>Idle Max</th>\n",
       "      <th>Idle Min</th>\n",
       "      <th>Label</th>\n",
       "      <th>Label.1</th>\n",
       "    </tr>\n",
       "  </thead>\n",
       "  <tbody>\n",
       "    <tr>\n",
       "      <th>0</th>\n",
       "      <td>10.152.152.11-216.58.220.99-57158-443-6</td>\n",
       "      <td>10.152.152.11</td>\n",
       "      <td>57158</td>\n",
       "      <td>216.58.220.99</td>\n",
       "      <td>443</td>\n",
       "      <td>6</td>\n",
       "      <td>24/07/2015 04:09:48 PM</td>\n",
       "      <td>229</td>\n",
       "      <td>1</td>\n",
       "      <td>1</td>\n",
       "      <td>...</td>\n",
       "      <td>0</td>\n",
       "      <td>0</td>\n",
       "      <td>0</td>\n",
       "      <td>0</td>\n",
       "      <td>0.000000e+00</td>\n",
       "      <td>0.000</td>\n",
       "      <td>0.000000e+00</td>\n",
       "      <td>0.000000e+00</td>\n",
       "      <td>Non-Tor</td>\n",
       "      <td>AUDIO-STREAMING</td>\n",
       "    </tr>\n",
       "    <tr>\n",
       "      <th>1</th>\n",
       "      <td>10.152.152.11-216.58.220.99-57159-443-6</td>\n",
       "      <td>10.152.152.11</td>\n",
       "      <td>57159</td>\n",
       "      <td>216.58.220.99</td>\n",
       "      <td>443</td>\n",
       "      <td>6</td>\n",
       "      <td>24/07/2015 04:09:48 PM</td>\n",
       "      <td>407</td>\n",
       "      <td>1</td>\n",
       "      <td>1</td>\n",
       "      <td>...</td>\n",
       "      <td>0</td>\n",
       "      <td>0</td>\n",
       "      <td>0</td>\n",
       "      <td>0</td>\n",
       "      <td>0.000000e+00</td>\n",
       "      <td>0.000</td>\n",
       "      <td>0.000000e+00</td>\n",
       "      <td>0.000000e+00</td>\n",
       "      <td>Non-Tor</td>\n",
       "      <td>AUDIO-STREAMING</td>\n",
       "    </tr>\n",
       "    <tr>\n",
       "      <th>2</th>\n",
       "      <td>10.152.152.11-216.58.220.99-57160-443-6</td>\n",
       "      <td>10.152.152.11</td>\n",
       "      <td>57160</td>\n",
       "      <td>216.58.220.99</td>\n",
       "      <td>443</td>\n",
       "      <td>6</td>\n",
       "      <td>24/07/2015 04:09:48 PM</td>\n",
       "      <td>431</td>\n",
       "      <td>1</td>\n",
       "      <td>1</td>\n",
       "      <td>...</td>\n",
       "      <td>0</td>\n",
       "      <td>0</td>\n",
       "      <td>0</td>\n",
       "      <td>0</td>\n",
       "      <td>0.000000e+00</td>\n",
       "      <td>0.000</td>\n",
       "      <td>0.000000e+00</td>\n",
       "      <td>0.000000e+00</td>\n",
       "      <td>Non-Tor</td>\n",
       "      <td>AUDIO-STREAMING</td>\n",
       "    </tr>\n",
       "    <tr>\n",
       "      <th>3</th>\n",
       "      <td>10.152.152.11-74.125.136.120-49134-443-6</td>\n",
       "      <td>10.152.152.11</td>\n",
       "      <td>49134</td>\n",
       "      <td>74.125.136.120</td>\n",
       "      <td>443</td>\n",
       "      <td>6</td>\n",
       "      <td>24/07/2015 04:09:48 PM</td>\n",
       "      <td>359</td>\n",
       "      <td>1</td>\n",
       "      <td>1</td>\n",
       "      <td>...</td>\n",
       "      <td>0</td>\n",
       "      <td>0</td>\n",
       "      <td>0</td>\n",
       "      <td>0</td>\n",
       "      <td>0.000000e+00</td>\n",
       "      <td>0.000</td>\n",
       "      <td>0.000000e+00</td>\n",
       "      <td>0.000000e+00</td>\n",
       "      <td>Non-Tor</td>\n",
       "      <td>AUDIO-STREAMING</td>\n",
       "    </tr>\n",
       "    <tr>\n",
       "      <th>4</th>\n",
       "      <td>10.152.152.11-173.194.65.127-34697-19305-6</td>\n",
       "      <td>10.152.152.11</td>\n",
       "      <td>34697</td>\n",
       "      <td>173.194.65.127</td>\n",
       "      <td>19305</td>\n",
       "      <td>6</td>\n",
       "      <td>24/07/2015 04:09:45 PM</td>\n",
       "      <td>10778451</td>\n",
       "      <td>591</td>\n",
       "      <td>400</td>\n",
       "      <td>...</td>\n",
       "      <td>0</td>\n",
       "      <td>0</td>\n",
       "      <td>0</td>\n",
       "      <td>0</td>\n",
       "      <td>1.437760e+15</td>\n",
       "      <td>3117718.131</td>\n",
       "      <td>1.437760e+15</td>\n",
       "      <td>1.437760e+15</td>\n",
       "      <td>Non-Tor</td>\n",
       "      <td>AUDIO-STREAMING</td>\n",
       "    </tr>\n",
       "  </tbody>\n",
       "</table>\n",
       "<p>5 rows × 85 columns</p>\n",
       "</div>"
      ],
      "text/plain": [
       "                                      Flow ID         Src IP  Src Port  \\\n",
       "0     10.152.152.11-216.58.220.99-57158-443-6  10.152.152.11     57158   \n",
       "1     10.152.152.11-216.58.220.99-57159-443-6  10.152.152.11     57159   \n",
       "2     10.152.152.11-216.58.220.99-57160-443-6  10.152.152.11     57160   \n",
       "3    10.152.152.11-74.125.136.120-49134-443-6  10.152.152.11     49134   \n",
       "4  10.152.152.11-173.194.65.127-34697-19305-6  10.152.152.11     34697   \n",
       "\n",
       "           Dst IP  Dst Port  Protocol               Timestamp  Flow Duration  \\\n",
       "0   216.58.220.99       443         6  24/07/2015 04:09:48 PM            229   \n",
       "1   216.58.220.99       443         6  24/07/2015 04:09:48 PM            407   \n",
       "2   216.58.220.99       443         6  24/07/2015 04:09:48 PM            431   \n",
       "3  74.125.136.120       443         6  24/07/2015 04:09:48 PM            359   \n",
       "4  173.194.65.127     19305         6  24/07/2015 04:09:45 PM       10778451   \n",
       "\n",
       "   Total Fwd Packet  Total Bwd packets  ...  Active Mean  Active Std  \\\n",
       "0                 1                  1  ...            0           0   \n",
       "1                 1                  1  ...            0           0   \n",
       "2                 1                  1  ...            0           0   \n",
       "3                 1                  1  ...            0           0   \n",
       "4               591                400  ...            0           0   \n",
       "\n",
       "   Active Max  Active Min     Idle Mean     Idle Std      Idle Max  \\\n",
       "0           0           0  0.000000e+00        0.000  0.000000e+00   \n",
       "1           0           0  0.000000e+00        0.000  0.000000e+00   \n",
       "2           0           0  0.000000e+00        0.000  0.000000e+00   \n",
       "3           0           0  0.000000e+00        0.000  0.000000e+00   \n",
       "4           0           0  1.437760e+15  3117718.131  1.437760e+15   \n",
       "\n",
       "       Idle Min    Label          Label.1  \n",
       "0  0.000000e+00  Non-Tor  AUDIO-STREAMING  \n",
       "1  0.000000e+00  Non-Tor  AUDIO-STREAMING  \n",
       "2  0.000000e+00  Non-Tor  AUDIO-STREAMING  \n",
       "3  0.000000e+00  Non-Tor  AUDIO-STREAMING  \n",
       "4  1.437760e+15  Non-Tor  AUDIO-STREAMING  \n",
       "\n",
       "[5 rows x 85 columns]"
      ]
     },
     "execution_count": 204,
     "metadata": {},
     "output_type": "execute_result"
    }
   ],
   "source": [
    "df.head()"
   ]
  },
  {
   "cell_type": "code",
   "execution_count": 205,
   "id": "7e46c597",
   "metadata": {},
   "outputs": [
    {
     "name": "stdout",
     "output_type": "stream",
     "text": [
      "<class 'pandas.core.frame.DataFrame'>\n",
      "RangeIndex: 141530 entries, 0 to 141529\n",
      "Data columns (total 85 columns):\n",
      " #   Column                      Non-Null Count   Dtype  \n",
      "---  ------                      --------------   -----  \n",
      " 0   Flow ID                     141530 non-null  object \n",
      " 1   Src IP                      141530 non-null  object \n",
      " 2   Src Port                    141530 non-null  int64  \n",
      " 3   Dst IP                      141530 non-null  object \n",
      " 4   Dst Port                    141530 non-null  int64  \n",
      " 5   Protocol                    141530 non-null  int64  \n",
      " 6   Timestamp                   141530 non-null  object \n",
      " 7   Flow Duration               141530 non-null  int64  \n",
      " 8   Total Fwd Packet            141530 non-null  int64  \n",
      " 9   Total Bwd packets           141530 non-null  int64  \n",
      " 10  Total Length of Fwd Packet  141530 non-null  int64  \n",
      " 11  Total Length of Bwd Packet  141530 non-null  int64  \n",
      " 12  Fwd Packet Length Max       141530 non-null  int64  \n",
      " 13  Fwd Packet Length Min       141530 non-null  int64  \n",
      " 14  Fwd Packet Length Mean      141530 non-null  float64\n",
      " 15  Fwd Packet Length Std       141530 non-null  float64\n",
      " 16  Bwd Packet Length Max       141530 non-null  int64  \n",
      " 17  Bwd Packet Length Min       141530 non-null  int64  \n",
      " 18  Bwd Packet Length Mean      141530 non-null  float64\n",
      " 19  Bwd Packet Length Std       141530 non-null  float64\n",
      " 20  Flow Bytes/s                141483 non-null  float64\n",
      " 21  Flow Packets/s              141530 non-null  float64\n",
      " 22  Flow IAT Mean               141530 non-null  float64\n",
      " 23  Flow IAT Std                141530 non-null  float64\n",
      " 24  Flow IAT Max                141530 non-null  int64  \n",
      " 25  Flow IAT Min                141530 non-null  int64  \n",
      " 26  Fwd IAT Total               141530 non-null  int64  \n",
      " 27  Fwd IAT Mean                141530 non-null  float64\n",
      " 28  Fwd IAT Std                 141530 non-null  float64\n",
      " 29  Fwd IAT Max                 141530 non-null  int64  \n",
      " 30  Fwd IAT Min                 141530 non-null  int64  \n",
      " 31  Bwd IAT Total               141530 non-null  int64  \n",
      " 32  Bwd IAT Mean                141530 non-null  float64\n",
      " 33  Bwd IAT Std                 141530 non-null  float64\n",
      " 34  Bwd IAT Max                 141530 non-null  int64  \n",
      " 35  Bwd IAT Min                 141530 non-null  int64  \n",
      " 36  Fwd PSH Flags               141530 non-null  int64  \n",
      " 37  Bwd PSH Flags               141530 non-null  int64  \n",
      " 38  Fwd URG Flags               141530 non-null  int64  \n",
      " 39  Bwd URG Flags               141530 non-null  int64  \n",
      " 40  Fwd Header Length           141530 non-null  int64  \n",
      " 41  Bwd Header Length           141530 non-null  int64  \n",
      " 42  Fwd Packets/s               141530 non-null  float64\n",
      " 43  Bwd Packets/s               141530 non-null  float64\n",
      " 44  Packet Length Min           141530 non-null  int64  \n",
      " 45  Packet Length Max           141530 non-null  int64  \n",
      " 46  Packet Length Mean          141530 non-null  float64\n",
      " 47  Packet Length Std           141530 non-null  float64\n",
      " 48  Packet Length Variance      141530 non-null  float64\n",
      " 49  FIN Flag Count              141530 non-null  int64  \n",
      " 50  SYN Flag Count              141530 non-null  int64  \n",
      " 51  RST Flag Count              141530 non-null  int64  \n",
      " 52  PSH Flag Count              141530 non-null  int64  \n",
      " 53  ACK Flag Count              141530 non-null  int64  \n",
      " 54  URG Flag Count              141530 non-null  int64  \n",
      " 55  CWE Flag Count              141530 non-null  int64  \n",
      " 56  ECE Flag Count              141530 non-null  int64  \n",
      " 57  Down/Up Ratio               141530 non-null  int64  \n",
      " 58  Average Packet Size         141530 non-null  float64\n",
      " 59  Fwd Segment Size Avg        141530 non-null  float64\n",
      " 60  Bwd Segment Size Avg        141530 non-null  float64\n",
      " 61  Fwd Bytes/Bulk Avg          141530 non-null  int64  \n",
      " 62  Fwd Packet/Bulk Avg         141530 non-null  int64  \n",
      " 63  Fwd Bulk Rate Avg           141530 non-null  int64  \n",
      " 64  Bwd Bytes/Bulk Avg          141530 non-null  int64  \n",
      " 65  Bwd Packet/Bulk Avg         141530 non-null  int64  \n",
      " 66  Bwd Bulk Rate Avg           141530 non-null  int64  \n",
      " 67  Subflow Fwd Packets         141530 non-null  int64  \n",
      " 68  Subflow Fwd Bytes           141530 non-null  int64  \n",
      " 69  Subflow Bwd Packets         141530 non-null  int64  \n",
      " 70  Subflow Bwd Bytes           141530 non-null  int64  \n",
      " 71  FWD Init Win Bytes          141530 non-null  int64  \n",
      " 72  Bwd Init Win Bytes          141530 non-null  int64  \n",
      " 73  Fwd Act Data Pkts           141530 non-null  int64  \n",
      " 74  Fwd Seg Size Min            141530 non-null  int64  \n",
      " 75  Active Mean                 141530 non-null  int64  \n",
      " 76  Active Std                  141530 non-null  int64  \n",
      " 77  Active Max                  141530 non-null  int64  \n",
      " 78  Active Min                  141530 non-null  int64  \n",
      " 79  Idle Mean                   141530 non-null  float64\n",
      " 80  Idle Std                    141530 non-null  float64\n",
      " 81  Idle Max                    141530 non-null  float64\n",
      " 82  Idle Min                    141530 non-null  float64\n",
      " 83  Label                       141530 non-null  object \n",
      " 84  Label.1                     141530 non-null  object \n",
      "dtypes: float64(24), int64(55), object(6)\n",
      "memory usage: 91.8+ MB\n"
     ]
    }
   ],
   "source": [
    "df.info()"
   ]
  },
  {
   "cell_type": "code",
   "execution_count": 206,
   "id": "f700ab6b",
   "metadata": {},
   "outputs": [],
   "source": [
    "drop = ['Src IP', 'Flow ID', 'Label', 'Label.1', 'Dst IP', 'Timestamp', 'Flow Bytes/s', 'Flow Packets/s']\n",
    "X = df.drop(drop, axis=1)"
   ]
  },
  {
   "cell_type": "code",
   "execution_count": 207,
   "id": "07b486c5",
   "metadata": {},
   "outputs": [
    {
     "data": {
      "text/plain": [
       "(141530, 77)"
      ]
     },
     "execution_count": 207,
     "metadata": {},
     "output_type": "execute_result"
    }
   ],
   "source": [
    "X.shape"
   ]
  },
  {
   "cell_type": "code",
   "execution_count": 208,
   "id": "ce19deb8",
   "metadata": {},
   "outputs": [],
   "source": [
    "# df['Labels'] = df['Label'] + ' ' + df['Label.1']\n",
    "# # df.drop(['Label', 'Label.1'], axis=1, inplace=True)"
   ]
  },
  {
   "cell_type": "code",
   "execution_count": 209,
   "id": "5a5e796d",
   "metadata": {},
   "outputs": [
    {
     "data": {
      "text/plain": [
       "array(['Non-Tor', 'NonVPN', 'Tor', 'VPN'], dtype=object)"
      ]
     },
     "execution_count": 209,
     "metadata": {},
     "output_type": "execute_result"
    }
   ],
   "source": [
    "df['Label'].unique()"
   ]
  },
  {
   "cell_type": "code",
   "execution_count": 210,
   "id": "77c63099",
   "metadata": {},
   "outputs": [
    {
     "data": {
      "text/plain": [
       "4"
      ]
     },
     "execution_count": 210,
     "metadata": {},
     "output_type": "execute_result"
    }
   ],
   "source": [
    "len(df['Label'].unique())"
   ]
  },
  {
   "cell_type": "code",
   "execution_count": 211,
   "id": "139af73b",
   "metadata": {},
   "outputs": [],
   "source": [
    "from sklearn import preprocessing\n",
    "le = preprocessing.LabelEncoder()\n",
    "\n",
    "y = df['Label']\n",
    "y = le.fit_transform(y)"
   ]
  },
  {
   "cell_type": "code",
   "execution_count": 214,
   "id": "7b0132b2",
   "metadata": {},
   "outputs": [
    {
     "data": {
      "text/plain": [
       "(141530, 85)"
      ]
     },
     "execution_count": 214,
     "metadata": {},
     "output_type": "execute_result"
    }
   ],
   "source": [
    "df.shape"
   ]
  },
  {
   "cell_type": "code",
   "execution_count": 215,
   "id": "47553329",
   "metadata": {},
   "outputs": [
    {
     "name": "stdout",
     "output_type": "stream",
     "text": [
      "[0 0 0 ... 3 3 3]\n"
     ]
    }
   ],
   "source": [
    "print(y)"
   ]
  },
  {
   "cell_type": "code",
   "execution_count": 216,
   "id": "e1018642",
   "metadata": {},
   "outputs": [],
   "source": [
    "drops = ['Src IP', 'Flow ID', 'Dst IP', 'Timestamp', 'Flow Bytes/s', 'Flow Packets/s', 'Label.1']\n",
    "\n",
    "df = df.drop(columns=drops)"
   ]
  },
  {
   "cell_type": "code",
   "execution_count": 217,
   "id": "43fe87f1",
   "metadata": {},
   "outputs": [],
   "source": [
    "from sklearn.feature_selection import mutual_info_classif\n",
    "import matplotlib.pyplot as plt\n",
    "%matplotlib inline\n",
    "\n",
    "importances = mutual_info_classif(X, y)\n",
    "feat_importances = pd.Series(importances, df.columns[0:len(df.columns)-1])"
   ]
  },
  {
   "cell_type": "code",
   "execution_count": 218,
   "id": "441a1e56",
   "metadata": {
    "scrolled": true
   },
   "outputs": [
    {
     "name": "stdout",
     "output_type": "stream",
     "text": [
      "Src Port                      0.380605\n",
      "Dst Port                      0.421073\n",
      "Protocol                      0.146748\n",
      "Flow Duration                 0.441552\n",
      "Total Fwd Packet              0.136117\n",
      "Total Bwd packets             0.135024\n",
      "Total Length of Fwd Packet    0.434907\n",
      "Total Length of Bwd Packet    0.310157\n",
      "Fwd Packet Length Max         0.405595\n",
      "Fwd Packet Length Min         0.332597\n",
      "Fwd Packet Length Mean        0.391948\n",
      "Fwd Packet Length Std         0.122985\n",
      "Bwd Packet Length Max         0.340180\n",
      "Bwd Packet Length Min         0.275167\n",
      "Bwd Packet Length Mean        0.322727\n",
      "Bwd Packet Length Std         0.104938\n",
      "Flow IAT Mean                 0.415800\n",
      "Flow IAT Std                  0.177156\n",
      "Flow IAT Max                  0.446018\n",
      "Flow IAT Min                  0.422884\n",
      "Fwd IAT Total                 0.302399\n",
      "Fwd IAT Mean                  0.296861\n",
      "Fwd IAT Std                   0.119594\n",
      "Fwd IAT Max                   0.309980\n",
      "Fwd IAT Min                   0.293206\n",
      "Bwd IAT Total                 0.121339\n",
      "Bwd IAT Mean                  0.119004\n",
      "Bwd IAT Std                   0.073475\n",
      "Bwd IAT Max                   0.128372\n",
      "Bwd IAT Min                   0.095521\n",
      "Fwd PSH Flags                 0.012627\n",
      "Bwd PSH Flags                 0.000000\n",
      "Fwd URG Flags                 0.000000\n",
      "Bwd URG Flags                 0.000000\n",
      "Fwd Header Length             0.389946\n",
      "Bwd Header Length             0.315000\n",
      "Fwd Packets/s                 0.417660\n",
      "Bwd Packets/s                 0.320785\n",
      "Packet Length Min             0.325609\n",
      "Packet Length Max             0.504178\n",
      "Packet Length Mean            0.512715\n",
      "Packet Length Std             0.372590\n",
      "Packet Length Variance        0.372542\n",
      "FIN Flag Count                0.094533\n",
      "SYN Flag Count                0.053066\n",
      "RST Flag Count                0.006180\n",
      "PSH Flag Count                0.073917\n",
      "ACK Flag Count                0.173795\n",
      "URG Flag Count                0.000406\n",
      "CWE Flag Count                0.000000\n",
      "ECE Flag Count                0.000366\n",
      "Down/Up Ratio                 0.041750\n",
      "Average Packet Size           0.504956\n",
      "Fwd Segment Size Avg          0.391122\n",
      "Bwd Segment Size Avg          0.326805\n",
      "Fwd Bytes/Bulk Avg            0.000000\n",
      "Fwd Packet/Bulk Avg           0.001488\n",
      "Fwd Bulk Rate Avg             0.001001\n",
      "Bwd Bytes/Bulk Avg            0.000000\n",
      "Bwd Packet/Bulk Avg           0.051129\n",
      "dtype: float64\n"
     ]
    }
   ],
   "source": [
    "print(feat_importances[0:60])"
   ]
  },
  {
   "cell_type": "code",
   "execution_count": 266,
   "id": "f5413fd3",
   "metadata": {},
   "outputs": [
    {
     "data": {
      "text/plain": [
       "Src Port                      0.380157\n",
       "Flow Duration                 0.441095\n",
       "Total Length of Fwd Packet    0.436703\n",
       "Flow IAT Mean                 0.416413\n",
       "Fwd Packets/s                 0.417389\n",
       "Packet Length Max             0.505069\n",
       "Idle Mean                     0.359182\n",
       "Idle Max                      0.366146\n",
       "dtype: float64"
      ]
     },
     "execution_count": 266,
     "metadata": {},
     "output_type": "execute_result"
    }
   ],
   "source": [
    "# ambil data dengan korelasi diatas 35% dan kurang dari 100%\n",
    "\n",
    "feat_importances[(feat_importances > 0.35) & (feat_importances < 1)]"
   ]
  },
  {
   "cell_type": "code",
   "execution_count": 220,
   "id": "39f4c428",
   "metadata": {},
   "outputs": [],
   "source": [
    "X_baru = ['Src Port', 'Flow Duration', 'Total Length of Fwd Packet', 'Flow IAT Mean', 'Fwd Packets/s', 'Packet Length Max', 'Idle Mean', 'Idle Max']\n",
    "\n",
    "X = df[X_baru]"
   ]
  },
  {
   "cell_type": "code",
   "execution_count": 221,
   "id": "b62e91ca",
   "metadata": {},
   "outputs": [
    {
     "data": {
      "text/plain": [
       "array([0, 0, 0, ..., 3, 3, 3])"
      ]
     },
     "execution_count": 221,
     "metadata": {},
     "output_type": "execute_result"
    }
   ],
   "source": [
    "y"
   ]
  },
  {
   "cell_type": "code",
   "execution_count": 223,
   "id": "f955948c",
   "metadata": {},
   "outputs": [],
   "source": [
    "df_baru = ['Src Port', 'Flow Duration', 'Total Length of Fwd Packet', 'Flow IAT Mean', 'Fwd Packets/s', 'Packet Length Max', 'Idle Mean', 'Idle Max', 'Label']\n",
    "\n",
    "df = df[df_baru]"
   ]
  },
  {
   "cell_type": "code",
   "execution_count": 224,
   "id": "ba3c8166",
   "metadata": {},
   "outputs": [
    {
     "data": {
      "text/html": [
       "<div>\n",
       "<style scoped>\n",
       "    .dataframe tbody tr th:only-of-type {\n",
       "        vertical-align: middle;\n",
       "    }\n",
       "\n",
       "    .dataframe tbody tr th {\n",
       "        vertical-align: top;\n",
       "    }\n",
       "\n",
       "    .dataframe thead th {\n",
       "        text-align: right;\n",
       "    }\n",
       "</style>\n",
       "<table border=\"1\" class=\"dataframe\">\n",
       "  <thead>\n",
       "    <tr style=\"text-align: right;\">\n",
       "      <th></th>\n",
       "      <th>Src Port</th>\n",
       "      <th>Flow Duration</th>\n",
       "      <th>Total Length of Fwd Packet</th>\n",
       "      <th>Flow IAT Mean</th>\n",
       "      <th>Fwd Packets/s</th>\n",
       "      <th>Packet Length Max</th>\n",
       "      <th>Idle Mean</th>\n",
       "      <th>Idle Max</th>\n",
       "      <th>Label</th>\n",
       "    </tr>\n",
       "  </thead>\n",
       "  <tbody>\n",
       "    <tr>\n",
       "      <th>0</th>\n",
       "      <td>57158</td>\n",
       "      <td>229</td>\n",
       "      <td>0</td>\n",
       "      <td>229.00000</td>\n",
       "      <td>4366.812227</td>\n",
       "      <td>0</td>\n",
       "      <td>0.000000e+00</td>\n",
       "      <td>0.000000e+00</td>\n",
       "      <td>Non-Tor</td>\n",
       "    </tr>\n",
       "    <tr>\n",
       "      <th>1</th>\n",
       "      <td>57159</td>\n",
       "      <td>407</td>\n",
       "      <td>0</td>\n",
       "      <td>407.00000</td>\n",
       "      <td>2457.002457</td>\n",
       "      <td>0</td>\n",
       "      <td>0.000000e+00</td>\n",
       "      <td>0.000000e+00</td>\n",
       "      <td>Non-Tor</td>\n",
       "    </tr>\n",
       "    <tr>\n",
       "      <th>2</th>\n",
       "      <td>57160</td>\n",
       "      <td>431</td>\n",
       "      <td>0</td>\n",
       "      <td>431.00000</td>\n",
       "      <td>2320.185615</td>\n",
       "      <td>0</td>\n",
       "      <td>0.000000e+00</td>\n",
       "      <td>0.000000e+00</td>\n",
       "      <td>Non-Tor</td>\n",
       "    </tr>\n",
       "    <tr>\n",
       "      <th>3</th>\n",
       "      <td>49134</td>\n",
       "      <td>359</td>\n",
       "      <td>0</td>\n",
       "      <td>359.00000</td>\n",
       "      <td>2785.515320</td>\n",
       "      <td>0</td>\n",
       "      <td>0.000000e+00</td>\n",
       "      <td>0.000000e+00</td>\n",
       "      <td>Non-Tor</td>\n",
       "    </tr>\n",
       "    <tr>\n",
       "      <th>4</th>\n",
       "      <td>34697</td>\n",
       "      <td>10778451</td>\n",
       "      <td>64530</td>\n",
       "      <td>10887.32424</td>\n",
       "      <td>54.831627</td>\n",
       "      <td>498</td>\n",
       "      <td>1.437760e+15</td>\n",
       "      <td>1.437760e+15</td>\n",
       "      <td>Non-Tor</td>\n",
       "    </tr>\n",
       "  </tbody>\n",
       "</table>\n",
       "</div>"
      ],
      "text/plain": [
       "   Src Port  Flow Duration  Total Length of Fwd Packet  Flow IAT Mean  \\\n",
       "0     57158            229                           0      229.00000   \n",
       "1     57159            407                           0      407.00000   \n",
       "2     57160            431                           0      431.00000   \n",
       "3     49134            359                           0      359.00000   \n",
       "4     34697       10778451                       64530    10887.32424   \n",
       "\n",
       "   Fwd Packets/s  Packet Length Max     Idle Mean      Idle Max    Label  \n",
       "0    4366.812227                  0  0.000000e+00  0.000000e+00  Non-Tor  \n",
       "1    2457.002457                  0  0.000000e+00  0.000000e+00  Non-Tor  \n",
       "2    2320.185615                  0  0.000000e+00  0.000000e+00  Non-Tor  \n",
       "3    2785.515320                  0  0.000000e+00  0.000000e+00  Non-Tor  \n",
       "4      54.831627                498  1.437760e+15  1.437760e+15  Non-Tor  "
      ]
     },
     "execution_count": 224,
     "metadata": {},
     "output_type": "execute_result"
    }
   ],
   "source": [
    "df.head()"
   ]
  },
  {
   "cell_type": "code",
   "execution_count": 225,
   "id": "162bcc97",
   "metadata": {},
   "outputs": [
    {
     "name": "stdout",
     "output_type": "stream",
     "text": [
      "<class 'pandas.core.frame.DataFrame'>\n",
      "RangeIndex: 141530 entries, 0 to 141529\n",
      "Data columns (total 9 columns):\n",
      " #   Column                      Non-Null Count   Dtype  \n",
      "---  ------                      --------------   -----  \n",
      " 0   Src Port                    141530 non-null  int64  \n",
      " 1   Flow Duration               141530 non-null  int64  \n",
      " 2   Total Length of Fwd Packet  141530 non-null  int64  \n",
      " 3   Flow IAT Mean               141530 non-null  float64\n",
      " 4   Fwd Packets/s               141530 non-null  float64\n",
      " 5   Packet Length Max           141530 non-null  int64  \n",
      " 6   Idle Mean                   141530 non-null  float64\n",
      " 7   Idle Max                    141530 non-null  float64\n",
      " 8   Label                       141530 non-null  object \n",
      "dtypes: float64(4), int64(4), object(1)\n",
      "memory usage: 9.7+ MB\n"
     ]
    }
   ],
   "source": [
    "df.info()"
   ]
  },
  {
   "cell_type": "code",
   "execution_count": 267,
   "id": "a49d8dd5",
   "metadata": {},
   "outputs": [
    {
     "data": {
      "image/png": "[encoded data removed]",
      "text/plain": [
       "<Figure size 432x288 with 1 Axes>"
      ]
     },
     "metadata": {
      "needs_background": "light"
     },
     "output_type": "display_data"
    },
    {
     "data": {
      "text/plain": [
       "<Figure size 72000x43200 with 0 Axes>"
      ]
     },
     "metadata": {},
     "output_type": "display_data"
    }
   ],
   "source": [
    "# plot korelasi dari features\n",
    "from sklearn.feature_selection import mutual_info_classif\n",
    "import matplotlib.pyplot as plt\n",
    "%matplotlib inline\n",
    "\n",
    "importances = mutual_info_classif(X, y)\n",
    "feat_importances = pd.Series(importances, df.columns[0:len(df.columns)-1])\n",
    "feat_importances.plot(kind='barh', color='gray')\n",
    "\n",
    "plt.figure(figsize=(1000, 600))\n",
    "plt.show()"
   ]
  },
  {
   "cell_type": "code",
   "execution_count": 227,
   "id": "76f9d892",
   "metadata": {},
   "outputs": [
    {
     "name": "stdout",
     "output_type": "stream",
     "text": [
      "df = (141530, 9)\n",
      "X = (141530, 8)\n",
      "y = (141530,)\n"
     ]
    }
   ],
   "source": [
    "print(f'df = {df.shape}')\n",
    "print(f'X = {X.shape}')\n",
    "print(f'y = {y.shape}')"
   ]
  },
  {
   "cell_type": "code",
   "execution_count": 229,
   "id": "045769e7",
   "metadata": {},
   "outputs": [
    {
     "data": {
      "text/plain": [
       "<AxesSubplot:xlabel='Label', ylabel='count'>"
      ]
     },
     "execution_count": 229,
     "metadata": {},
     "output_type": "execute_result"
    },
    {
     "data": {
      "image/png": "[encoded data removed]",
      "text/plain": [
       "<Figure size 432x288 with 1 Axes>"
      ]
     },
     "metadata": {
      "needs_background": "light"
     },
     "output_type": "display_data"
    }
   ],
   "source": [
    "import seaborn as sns\n",
    "\n",
    "sns.countplot(x=df['Label'])"
   ]
  },
  {
   "cell_type": "code",
   "execution_count": 237,
   "id": "31debc51",
   "metadata": {},
   "outputs": [],
   "source": [
    "from imblearn.over_sampling import SMOTE\n",
    "\n",
    "sm = SMOTE(random_state=42)\n",
    "X_res, y_res = sm.fit_resample(X, y)"
   ]
  },
  {
   "cell_type": "code",
   "execution_count": 242,
   "id": "de836a61",
   "metadata": {},
   "outputs": [
    {
     "data": {
      "text/plain": [
       "<AxesSubplot:ylabel='count'>"
      ]
     },
     "execution_count": 242,
     "metadata": {},
     "output_type": "execute_result"
    },
    {
     "data": {
      "image/png": "[encoded data removed]",
      "text/plain": [
       "<Figure size 432x288 with 1 Axes>"
      ]
     },
     "metadata": {
      "needs_background": "light"
     },
     "output_type": "display_data"
    }
   ],
   "source": [
    "sns.countplot(x=y_res)"
   ]
  },
  {
   "cell_type": "code",
   "execution_count": 244,
   "id": "9bea2aec",
   "metadata": {},
   "outputs": [
    {
     "data": {
      "image/png": "[encoded data removed]",
      "text/plain": [
       "<Figure size 720x360 with 2 Axes>"
      ]
     },
     "metadata": {
      "needs_background": "light"
     },
     "output_type": "display_data"
    }
   ],
   "source": [
    "import seaborn as sns\n",
    "\n",
    "plt.figure(figsize=(10, 5))\n",
    "heatmap = sns.heatmap(df.corr(), vmin=-1, vmax=1, annot=True)\n",
    "heatmap.set_title('Correlation Heatmap', fontdict={'fontsize':12}, pad=12);"
   ]
  },
  {
   "cell_type": "code",
   "execution_count": 247,
   "id": "e78be3c1",
   "metadata": {},
   "outputs": [],
   "source": [
    "from sklearn.model_selection import train_test_split\n",
    "\n",
    "X_train, X_test, y_train, y_test = train_test_split(X_res,\n",
    "                                                   y_res,\n",
    "                                                   test_size=0.20,\n",
    "                                                   random_state=1)"
   ]
  },
  {
   "attachments": {},
   "cell_type": "markdown",
   "id": "61e92226",
   "metadata": {},
   "source": [
    "### **Mencari Best-K**"
   ]
  },
  {
   "cell_type": "code",
   "execution_count": 252,
   "id": "8294da2f",
   "metadata": {},
   "outputs": [
    {
     "name": "stdout",
     "output_type": "stream",
     "text": [
      "n_neighbour = 1 MSE = 0.17405101425989156\n",
      "n_neighbour = 2 MSE = 0.20088371158867244\n",
      "n_neighbour = 3 MSE = 0.23400950659436298\n",
      "n_neighbour = 4 MSE = 0.24549775724710451\n",
      "n_neighbour = 5 MSE = 0.2528352413469907\n",
      "n_neighbour = 6 MSE = 0.2572270201513021\n",
      "n_neighbour = 7 MSE = 0.268688491664993\n",
      "n_neighbour = 8 MSE = 0.2739505924884515\n",
      "n_neighbour = 9 MSE = 0.2830019414875812\n",
      "n_neighbour = 10 MSE = 0.2828814353618531\n",
      "n_neighbour = 11 MSE = 0.29632456316529426\n",
      "n_neighbour = 12 MSE = 0.2983999464417219\n",
      "n_neighbour = 13 MSE = 0.3033139184575216\n",
      "n_neighbour = 14 MSE = 0.30694249179888866\n",
      "n_neighbour = 15 MSE = 0.314601325567383\n",
      "n_neighbour = 16 MSE = 0.31626163218852515\n",
      "n_neighbour = 17 MSE = 0.32390707638749416\n",
      "n_neighbour = 18 MSE = 0.3249112941018946\n",
      "n_neighbour = 19 MSE = 0.3318738702550713\n",
      "n_neighbour = 20 MSE = 0.3313382874740577\n",
      "n_neighbour = 21 MSE = 0.33704224409185246\n",
      "n_neighbour = 22 MSE = 0.3394121978978376\n",
      "n_neighbour = 23 MSE = 0.3427060320010712\n",
      "n_neighbour = 24 MSE = 0.34529021891946177\n",
      "n_neighbour = 25 MSE = 0.34870455914842335\n",
      "n_neighbour = 26 MSE = 0.3494543750418424\n",
      "n_neighbour = 27 MSE = 0.3521456785164357\n",
      "n_neighbour = 28 MSE = 0.3553190064939412\n",
      "n_neighbour = 29 MSE = 0.35880029457052953\n",
      "n_neighbour = 30 MSE = 0.3614915980451229\n",
      "n_neighbour = 31 MSE = 0.3629644506929102\n",
      "n_neighbour = 32 MSE = 0.36603066211421303\n",
      "n_neighbour = 33 MSE = 0.36819977237731805\n",
      "n_neighbour = 34 MSE = 0.3719622414139385\n",
      "n_neighbour = 35 MSE = 0.3774653544888532\n",
      "n_neighbour = 36 MSE = 0.37849635134230436\n",
      "n_neighbour = 37 MSE = 0.3814420566378791\n",
      "n_neighbour = 38 MSE = 0.3827408448818371\n",
      "n_neighbour = 39 MSE = 0.3871058445470978\n",
      "n_neighbour = 40 MSE = 0.3869987279908951\n",
      "n_neighbour = 41 MSE = 0.3904398473589074\n",
      "n_neighbour = 42 MSE = 0.3905067952065341\n",
      "n_neighbour = 43 MSE = 0.39649193278436096\n",
      "n_neighbour = 44 MSE = 0.39587601258619537\n",
      "n_neighbour = 45 MSE = 0.397911227154047\n",
      "n_neighbour = 46 MSE = 0.39884849702082076\n",
      "n_neighbour = 47 MSE = 0.4005757514895896\n",
      "n_neighbour = 48 MSE = 0.40281180960032137\n",
      "n_neighbour = 49 MSE = 0.40411059784427933\n",
      "n_neighbour = 50 MSE = 0.4077123920465957\n"
     ]
    }
   ],
   "source": [
    "# mencari jumlah neighbors terbaik\n",
    "from sklearn.neighbors import KNeighborsClassifier\n",
    "from sklearn.metrics import mean_squared_error, r2_score, mean_absolute_error\n",
    "\n",
    "# buat list kosong untuk menampung hasil pada looping yang nantinya akan di append\n",
    "mse_val = []\n",
    "k = []\n",
    "\n",
    "# lakukan looping dengan sebagai jumlah k nya\n",
    "for i in range(1, 51):\n",
    "    k.append(i)\n",
    "    # gunakan i sebagai n_neighbors\n",
    "    knn_r = KNeighborsClassifier(i)\n",
    "    knn_r.fit(X_train, y_train)\n",
    "    y_pred = knn_r.predict(X_test)\n",
    "    mse = mean_squared_error(y_test, y_pred)\n",
    "    # append MSE\n",
    "    mse_val.append(mse)\n",
    "    print(f'n_neighbour = {str(i)} MSE = {str(mse)}')\n",
    "    "
   ]
  },
  {
   "cell_type": "code",
   "execution_count": 253,
   "id": "984d23d6",
   "metadata": {},
   "outputs": [
    {
     "data": {
      "text/plain": [
       "Text(0.5, 1.0, 'MSE vs k')"
      ]
     },
     "execution_count": 253,
     "metadata": {},
     "output_type": "execute_result"
    },
    {
     "data": {
      "image/png": "[encoded data removed]",
      "text/plain": [
       "<Figure size 432x288 with 1 Axes>"
      ]
     },
     "metadata": {
      "needs_background": "light"
     },
     "output_type": "display_data"
    }
   ],
   "source": [
    "#plotting kedalam grafik\n",
    "\n",
    "plt.plot(k, mse_val)\n",
    "plt.xlabel('n_neighbor(k)')\n",
    "plt.ylabel('MSE')\n",
    "plt.title('MSE vs k')"
   ]
  },
  {
   "cell_type": "code",
   "execution_count": 248,
   "id": "3ff43487",
   "metadata": {},
   "outputs": [],
   "source": [
    "from sklearn.neighbors import KNeighborsClassifier as KNN\n",
    "\n",
    "model_KNN = KNN(n_neighbors=1)"
   ]
  },
  {
   "cell_type": "code",
   "execution_count": 249,
   "id": "920c7edf",
   "metadata": {},
   "outputs": [],
   "source": [
    "model_KNN.fit(X_train,y_train)\n",
    "y_pred = model_KNN.predict(X_test)"
   ]
  },
  {
   "cell_type": "code",
   "execution_count": 250,
   "id": "894f181b",
   "metadata": {},
   "outputs": [
    {
     "name": "stdout",
     "output_type": "stream",
     "text": [
      "akurasi model sebelum dilakukan scaling 0.9573006627836915\n"
     ]
    }
   ],
   "source": [
    "from sklearn.metrics import accuracy_score\n",
    "\n",
    "print(f'akurasi model sebelum dilakukan scaling {accuracy_score(y_test, y_pred)}')"
   ]
  },
  {
   "cell_type": "code",
   "execution_count": 251,
   "id": "a80753fa",
   "metadata": {},
   "outputs": [
    {
     "name": "stdout",
     "output_type": "stream",
     "text": [
      "              precision    recall  f1-score   support\n",
      "\n",
      "           0       0.95      0.95      0.95     18745\n",
      "           1       0.95      0.96      0.95     18637\n",
      "           2       0.97      0.97      0.97     18909\n",
      "           3       0.96      0.96      0.96     18394\n",
      "\n",
      "    accuracy                           0.96     74685\n",
      "   macro avg       0.96      0.96      0.96     74685\n",
      "weighted avg       0.96      0.96      0.96     74685\n",
      "\n"
     ]
    }
   ],
   "source": [
    "from sklearn.metrics import classification_report\n",
    "\n",
    "print(classification_report(y_test, y_pred))"
   ]
  },
  {
   "cell_type": "code",
   "execution_count": null,
   "id": "24cf160a",
   "metadata": {},
   "outputs": [],
   "source": []
  }
 ],
 "metadata": {
  "kernelspec": {
   "display_name": "Python 3 (ipykernel)",
   "language": "python",
   "name": "python3"
  },
  "language_info": {
   "codemirror_mode": {
    "name": "ipython",
    "version": 3
   },
   "file_extension": ".py",
   "mimetype": "text/x-python",
   "name": "python",
   "nbconvert_exporter": "python",
   "pygments_lexer": "ipython3",
   "version": "3.9.12"
  }
 },
 "nbformat": 4,
 "nbformat_minor": 5
}
